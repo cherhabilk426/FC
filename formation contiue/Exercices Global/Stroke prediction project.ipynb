{
 "cells": [
  {
   "cell_type": "markdown",
   "metadata": {},
   "source": [
    "<a \n",
    "href=\"https://colab.research.google.com/github/adilo231/Python-for-machine-learning/blob/main/Exercices Global/Stroke prediction project.ipynb\" \n",
    "target=\"_parent\"><img src=\"https://colab.research.google.com/assets/colab-badge.svg\" alt=\"Open In Colab\"/></a>"
   ]
  },
  {
   "cell_type": "markdown",
   "metadata": {
    "papermill": {
     "duration": 0.07236,
     "end_time": "2021-03-25T19:09:51.743517",
     "exception": false,
     "start_time": "2021-03-25T19:09:51.671157",
     "status": "completed"
    },
    "tags": []
   },
   "source": [
    "# Stroke Prediction"
   ]
  },
  {
   "cell_type": "code",
   "execution_count": 3,
   "metadata": {
    "execution": {
     "iopub.execute_input": "2021-03-25T19:09:52.466328Z",
     "iopub.status.busy": "2021-03-25T19:09:52.465544Z",
     "iopub.status.idle": "2021-03-25T19:10:01.047369Z",
     "shell.execute_reply": "2021-03-25T19:10:01.046130Z"
    },
    "papermill": {
     "duration": 8.656546,
     "end_time": "2021-03-25T19:10:01.047544",
     "exception": false,
     "start_time": "2021-03-25T19:09:52.390998",
     "status": "completed"
    },
    "tags": []
   },
   "outputs": [
    {
     "ename": "ModuleNotFoundError",
     "evalue": "No module named 'imblearn'",
     "output_type": "error",
     "traceback": [
      "\u001b[1;31m---------------------------------------------------------------------------\u001b[0m",
      "\u001b[1;31mModuleNotFoundError\u001b[0m                       Traceback (most recent call last)",
      "\u001b[1;32m~\\AppData\\Local\\Temp\\ipykernel_16756\\3308480458.py\u001b[0m in \u001b[0;36m<module>\u001b[1;34m\u001b[0m\n\u001b[0;32m     11\u001b[0m \u001b[1;32mfrom\u001b[0m \u001b[0msklearn\u001b[0m\u001b[1;33m.\u001b[0m\u001b[0mcompose\u001b[0m \u001b[1;32mimport\u001b[0m \u001b[0mmake_column_transformer\u001b[0m\u001b[1;33m\u001b[0m\u001b[1;33m\u001b[0m\u001b[0m\n\u001b[0;32m     12\u001b[0m \u001b[1;32mfrom\u001b[0m \u001b[0msklearn\u001b[0m\u001b[1;33m.\u001b[0m\u001b[0mmodel_selection\u001b[0m \u001b[1;32mimport\u001b[0m \u001b[0mtrain_test_split\u001b[0m\u001b[1;33m\u001b[0m\u001b[1;33m\u001b[0m\u001b[0m\n\u001b[1;32m---> 13\u001b[1;33m \u001b[1;32mfrom\u001b[0m \u001b[0mimblearn\u001b[0m\u001b[1;33m.\u001b[0m\u001b[0mover_sampling\u001b[0m \u001b[1;32mimport\u001b[0m \u001b[0mSMOTE\u001b[0m\u001b[1;33m\u001b[0m\u001b[1;33m\u001b[0m\u001b[0m\n\u001b[0m\u001b[0;32m     14\u001b[0m \u001b[1;33m\u001b[0m\u001b[0m\n\u001b[0;32m     15\u001b[0m \u001b[1;33m\u001b[0m\u001b[0m\n",
      "\u001b[1;31mModuleNotFoundError\u001b[0m: No module named 'imblearn'"
     ]
    }
   ],
   "source": [
    "import pandas as pd\n",
    "import numpy as np\n",
    "import seaborn as sns\n",
    "import matplotlib.pyplot as plt\n",
    "import warnings\n",
    "warnings.filterwarnings(\"ignore\")\n",
    "\n",
    "from sklearn.preprocessing import OneHotEncoder,LabelEncoder,StandardScaler\n",
    "from sklearn.pipeline import make_pipeline\n",
    "from sklearn.impute import SimpleImputer\n",
    "from sklearn.compose import make_column_transformer\n",
    "from sklearn.model_selection import train_test_split\n",
    "from imblearn.over_sampling import SMOTE\n",
    "\n",
    "\n",
    "from sklearn.linear_model import LogisticRegression\n",
    "from sklearn.neighbors import KNeighborsClassifier\n",
    "from sklearn.naive_bayes import GaussianNB\n",
    "from sklearn.naive_bayes import BernoulliNB\n",
    "from sklearn.svm import SVC\n",
    "from sklearn.tree import DecisionTreeClassifier\n",
    "from sklearn.ensemble import RandomForestClassifier\n",
    "from xgboost import XGBClassifier"
   ]
  },
  {
   "cell_type": "markdown",
   "metadata": {
    "papermill": {
     "duration": 0.072677,
     "end_time": "2021-03-25T19:10:01.192281",
     "exception": false,
     "start_time": "2021-03-25T19:10:01.119604",
     "status": "completed"
    },
    "tags": []
   },
   "source": [
    "# Exploratory Data Analysis\n",
    "## Analyse de la forme des données\n",
    "\n",
    "- **variable target** : stroke\n",
    "- **lignes et colonnes** : 5110, 12\n",
    "- **types de variables** : qualitatives : 5, quantitatives : 7\n",
    "- **Analyse des valeurs manquantes** : peut de valeurs NaN 3% de la colone bmi"
   ]
  },
  {
   "cell_type": "code",
   "execution_count": null,
   "metadata": {
    "execution": {
     "iopub.execute_input": "2021-03-25T19:10:01.345106Z",
     "iopub.status.busy": "2021-03-25T19:10:01.344439Z",
     "iopub.status.idle": "2021-03-25T19:10:01.385727Z",
     "shell.execute_reply": "2021-03-25T19:10:01.384966Z"
    },
    "papermill": {
     "duration": 0.117511,
     "end_time": "2021-03-25T19:10:01.385884",
     "exception": false,
     "start_time": "2021-03-25T19:10:01.268373",
     "status": "completed"
    },
    "tags": []
   },
   "outputs": [],
   "source": [
    "dataset = pd.read_csv('healthcare-dataset-stroke-data.csv')"
   ]
  },
  {
   "cell_type": "code",
   "execution_count": null,
   "metadata": {
    "execution": {
     "iopub.execute_input": "2021-03-25T19:10:01.552758Z",
     "iopub.status.busy": "2021-03-25T19:10:01.549448Z",
     "iopub.status.idle": "2021-03-25T19:10:01.585613Z",
     "shell.execute_reply": "2021-03-25T19:10:01.585026Z"
    },
    "papermill": {
     "duration": 0.130369,
     "end_time": "2021-03-25T19:10:01.585786",
     "exception": false,
     "start_time": "2021-03-25T19:10:01.455417",
     "status": "completed"
    },
    "tags": []
   },
   "outputs": [],
   "source": [
    "df=dataset.copy()\n",
    "df.shape\n"
   ]
  },
  {
   "cell_type": "code",
   "execution_count": null,
   "metadata": {},
   "outputs": [],
   "source": [
    "df.dtypes.value_counts().plot.pie(autopct='%1.1f%%',startangle=90)\n",
    "df.dtypes.value_counts()"
   ]
  },
  {
   "cell_type": "code",
   "execution_count": null,
   "metadata": {
    "execution": {
     "iopub.execute_input": "2021-03-25T19:10:01.756781Z",
     "iopub.status.busy": "2021-03-25T19:10:01.744711Z",
     "iopub.status.idle": "2021-03-25T19:10:01.767049Z",
     "shell.execute_reply": "2021-03-25T19:10:01.766181Z"
    },
    "papermill": {
     "duration": 0.107787,
     "end_time": "2021-03-25T19:10:01.767391",
     "exception": false,
     "start_time": "2021-03-25T19:10:01.659604",
     "status": "completed"
    },
    "tags": []
   },
   "outputs": [],
   "source": [
    "df.info()"
   ]
  },
  {
   "cell_type": "markdown",
   "metadata": {
    "papermill": {
     "duration": 0.071999,
     "end_time": "2021-03-25T19:10:01.912976",
     "exception": false,
     "start_time": "2021-03-25T19:10:01.840977",
     "status": "completed"
    },
    "tags": []
   },
   "source": [
    "**There are null values present in 'bmi'.**"
   ]
  },
  {
   "cell_type": "code",
   "execution_count": null,
   "metadata": {
    "execution": {
     "iopub.execute_input": "2021-03-25T19:10:02.070994Z",
     "iopub.status.busy": "2021-03-25T19:10:02.067902Z",
     "iopub.status.idle": "2021-03-25T19:10:02.076845Z",
     "shell.execute_reply": "2021-03-25T19:10:02.077404Z"
    },
    "papermill": {
     "duration": 0.091687,
     "end_time": "2021-03-25T19:10:02.077617",
     "exception": false,
     "start_time": "2021-03-25T19:10:01.985930",
     "status": "completed"
    },
    "tags": []
   },
   "outputs": [],
   "source": [
    "df.isna().sum()/dataset.shape[0]*100"
   ]
  },
  {
   "cell_type": "markdown",
   "metadata": {
    "papermill": {
     "duration": 0.072192,
     "end_time": "2021-03-25T19:10:02.379076",
     "exception": false,
     "start_time": "2021-03-25T19:10:02.306884",
     "status": "completed"
    },
    "tags": []
   },
   "source": [
    "seulement 3% des données «bmi» manquent. Nous avons remplacé les valeurs nulles de 'bmi' par la moyenne dans cette colonne."
   ]
  },
  {
   "cell_type": "code",
   "execution_count": null,
   "metadata": {
    "execution": {
     "iopub.execute_input": "2021-03-25T19:10:02.851755Z",
     "iopub.status.busy": "2021-03-25T19:10:02.851046Z",
     "iopub.status.idle": "2021-03-25T19:10:02.885016Z",
     "shell.execute_reply": "2021-03-25T19:10:02.884280Z"
    },
    "papermill": {
     "duration": 0.119586,
     "end_time": "2021-03-25T19:10:02.885169",
     "exception": false,
     "start_time": "2021-03-25T19:10:02.765583",
     "status": "completed"
    },
    "tags": []
   },
   "outputs": [],
   "source": [
    "df.describe()"
   ]
  },
  {
   "cell_type": "code",
   "execution_count": null,
   "metadata": {
    "execution": {
     "iopub.execute_input": "2021-03-25T19:10:03.039615Z",
     "iopub.status.busy": "2021-03-25T19:10:03.038847Z",
     "iopub.status.idle": "2021-03-25T19:10:03.056082Z",
     "shell.execute_reply": "2021-03-25T19:10:03.055301Z"
    },
    "papermill": {
     "duration": 0.09915,
     "end_time": "2021-03-25T19:10:03.056252",
     "exception": false,
     "start_time": "2021-03-25T19:10:02.957102",
     "status": "completed"
    },
    "tags": []
   },
   "outputs": [],
   "source": [
    "df.corr()"
   ]
  },
  {
   "cell_type": "markdown",
   "metadata": {
    "papermill": {
     "duration": 0.074929,
     "end_time": "2021-03-25T19:10:03.203593",
     "exception": false,
     "start_time": "2021-03-25T19:10:03.128664",
     "status": "completed"
    },
    "tags": []
   },
   "source": [
    "# Data Visualization"
   ]
  },
  {
   "cell_type": "markdown",
   "metadata": {
    "papermill": {
     "duration": 0.07577,
     "end_time": "2021-03-25T19:10:03.356720",
     "exception": false,
     "start_time": "2021-03-25T19:10:03.280950",
     "status": "completed"
    },
    "tags": []
   },
   "source": [
    "### Heat Map Correlation"
   ]
  },
  {
   "cell_type": "code",
   "execution_count": null,
   "metadata": {
    "execution": {
     "iopub.execute_input": "2021-03-25T19:10:03.508874Z",
     "iopub.status.busy": "2021-03-25T19:10:03.508180Z",
     "iopub.status.idle": "2021-03-25T19:10:03.853087Z",
     "shell.execute_reply": "2021-03-25T19:10:03.852489Z"
    },
    "papermill": {
     "duration": 0.424838,
     "end_time": "2021-03-25T19:10:03.853363",
     "exception": false,
     "start_time": "2021-03-25T19:10:03.428525",
     "status": "completed"
    },
    "tags": []
   },
   "outputs": [],
   "source": [
    "# Compute the correlation matrix\n",
    "corr = df.corr()\n",
    "\n",
    "# Generate a mask for the upper triangle\n",
    "mask = np.triu(np.ones_like(corr, dtype=bool))\n",
    "\n",
    "# Set up the matplotlib figure\n",
    "f, ax = plt.subplots(figsize=(11, 9))\n",
    "\n",
    "# Generate a custom diverging colormap\n",
    "cmap = sns.diverging_palette(230, 20, as_cmap=True)\n",
    "\n",
    "# Draw the heatmap with the mask and correct aspect ratio\n",
    "sns.heatmap(corr, mask=mask, cmap=cmap, vmax=.3, center=0, square=True, linewidths=.5, cbar_kws={\"shrink\": .5})"
   ]
  },
  {
   "cell_type": "markdown",
   "metadata": {
    "papermill": {
     "duration": 0.073751,
     "end_time": "2021-03-25T19:10:04.003603",
     "exception": false,
     "start_time": "2021-03-25T19:10:03.929852",
     "status": "completed"
    },
    "tags": []
   },
   "source": [
    "### Count Plot"
   ]
  },
  {
   "cell_type": "code",
   "execution_count": null,
   "metadata": {
    "execution": {
     "iopub.execute_input": "2021-03-25T19:10:04.345945Z",
     "iopub.status.busy": "2021-03-25T19:10:04.344830Z",
     "iopub.status.idle": "2021-03-25T19:10:04.518824Z",
     "shell.execute_reply": "2021-03-25T19:10:04.519490Z"
    },
    "papermill": {
     "duration": 0.284721,
     "end_time": "2021-03-25T19:10:04.519703",
     "exception": false,
     "start_time": "2021-03-25T19:10:04.234982",
     "status": "completed"
    },
    "tags": []
   },
   "outputs": [],
   "source": [
    "print(df.gender.value_counts())\n",
    "sns.set_theme(style=\"darkgrid\")\n",
    "ax = sns.countplot(data=df, x=\"gender\")\n",
    "plt.show()"
   ]
  },
  {
   "cell_type": "code",
   "execution_count": null,
   "metadata": {
    "execution": {
     "iopub.execute_input": "2021-03-25T19:10:04.994010Z",
     "iopub.status.busy": "2021-03-25T19:10:04.993309Z",
     "iopub.status.idle": "2021-03-25T19:10:05.126329Z",
     "shell.execute_reply": "2021-03-25T19:10:05.125743Z"
    },
    "papermill": {
     "duration": 0.224453,
     "end_time": "2021-03-25T19:10:05.126633",
     "exception": false,
     "start_time": "2021-03-25T19:10:04.902180",
     "status": "completed"
    },
    "tags": []
   },
   "outputs": [],
   "source": [
    "print(df.hypertension.value_counts())\n",
    "sns.set_theme(style=\"darkgrid\")\n",
    "ax = sns.countplot(data=df, x=\"hypertension\")\n",
    "plt.show()"
   ]
  },
  {
   "cell_type": "code",
   "execution_count": null,
   "metadata": {
    "execution": {
     "iopub.execute_input": "2021-03-25T19:10:05.611226Z",
     "iopub.status.busy": "2021-03-25T19:10:05.605855Z",
     "iopub.status.idle": "2021-03-25T19:10:05.751516Z",
     "shell.execute_reply": "2021-03-25T19:10:05.752123Z"
    },
    "papermill": {
     "duration": 0.236347,
     "end_time": "2021-03-25T19:10:05.752326",
     "exception": false,
     "start_time": "2021-03-25T19:10:05.515979",
     "status": "completed"
    },
    "tags": []
   },
   "outputs": [],
   "source": [
    "print(df.ever_married.value_counts())\n",
    "sns.set_theme(style=\"darkgrid\")\n",
    "ax = sns.countplot(data=df, x=\"ever_married\")\n",
    "plt.show()"
   ]
  },
  {
   "cell_type": "code",
   "execution_count": null,
   "metadata": {
    "execution": {
     "iopub.execute_input": "2021-03-25T19:10:06.247459Z",
     "iopub.status.busy": "2021-03-25T19:10:06.246655Z",
     "iopub.status.idle": "2021-03-25T19:10:06.428020Z",
     "shell.execute_reply": "2021-03-25T19:10:06.427020Z"
    },
    "papermill": {
     "duration": 0.272697,
     "end_time": "2021-03-25T19:10:06.428325",
     "exception": false,
     "start_time": "2021-03-25T19:10:06.155628",
     "status": "completed"
    },
    "tags": []
   },
   "outputs": [],
   "source": [
    "print(df.work_type.value_counts())\n",
    "sns.set_theme(style=\"darkgrid\")\n",
    "ax = sns.countplot(data=df, x=\"work_type\")\n",
    "plt.show()"
   ]
  },
  {
   "cell_type": "code",
   "execution_count": 4,
   "metadata": {
    "execution": {
     "iopub.execute_input": "2021-03-25T19:10:06.927998Z",
     "iopub.status.busy": "2021-03-25T19:10:06.925982Z",
     "iopub.status.idle": "2021-03-25T19:10:07.061489Z",
     "shell.execute_reply": "2021-03-25T19:10:07.061970Z"
    },
    "papermill": {
     "duration": 0.234377,
     "end_time": "2021-03-25T19:10:07.062166",
     "exception": false,
     "start_time": "2021-03-25T19:10:06.827789",
     "status": "completed"
    },
    "tags": []
   },
   "outputs": [
    {
     "ename": "NameError",
     "evalue": "name 'df' is not defined",
     "output_type": "error",
     "traceback": [
      "\u001b[1;31m---------------------------------------------------------------------------\u001b[0m",
      "\u001b[1;31mNameError\u001b[0m                                 Traceback (most recent call last)",
      "\u001b[1;32m~\\AppData\\Local\\Temp\\ipykernel_16756\\2139670583.py\u001b[0m in \u001b[0;36m<module>\u001b[1;34m\u001b[0m\n\u001b[1;32m----> 1\u001b[1;33m \u001b[0mprint\u001b[0m\u001b[1;33m(\u001b[0m\u001b[0mdf\u001b[0m\u001b[1;33m.\u001b[0m\u001b[0mResidence_type\u001b[0m\u001b[1;33m.\u001b[0m\u001b[0mvalue_counts\u001b[0m\u001b[1;33m(\u001b[0m\u001b[1;33m)\u001b[0m\u001b[1;33m)\u001b[0m\u001b[1;33m\u001b[0m\u001b[1;33m\u001b[0m\u001b[0m\n\u001b[0m\u001b[0;32m      2\u001b[0m \u001b[0msns\u001b[0m\u001b[1;33m.\u001b[0m\u001b[0mset_theme\u001b[0m\u001b[1;33m(\u001b[0m\u001b[0mstyle\u001b[0m\u001b[1;33m=\u001b[0m\u001b[1;34m\"darkgrid\"\u001b[0m\u001b[1;33m)\u001b[0m\u001b[1;33m\u001b[0m\u001b[1;33m\u001b[0m\u001b[0m\n\u001b[0;32m      3\u001b[0m \u001b[0max\u001b[0m \u001b[1;33m=\u001b[0m \u001b[0msns\u001b[0m\u001b[1;33m.\u001b[0m\u001b[0mcountplot\u001b[0m\u001b[1;33m(\u001b[0m\u001b[0mdata\u001b[0m\u001b[1;33m=\u001b[0m\u001b[0mdf\u001b[0m\u001b[1;33m,\u001b[0m \u001b[0mx\u001b[0m\u001b[1;33m=\u001b[0m\u001b[1;34m\"Residence_type\"\u001b[0m\u001b[1;33m)\u001b[0m\u001b[1;33m\u001b[0m\u001b[1;33m\u001b[0m\u001b[0m\n\u001b[0;32m      4\u001b[0m \u001b[0mplt\u001b[0m\u001b[1;33m.\u001b[0m\u001b[0mshow\u001b[0m\u001b[1;33m(\u001b[0m\u001b[1;33m)\u001b[0m\u001b[1;33m\u001b[0m\u001b[1;33m\u001b[0m\u001b[0m\n",
      "\u001b[1;31mNameError\u001b[0m: name 'df' is not defined"
     ]
    }
   ],
   "source": [
    "print(df.Residence_type.value_counts())\n",
    "sns.set_theme(style=\"darkgrid\")\n",
    "ax = sns.countplot(data=df, x=\"Residence_type\")\n",
    "plt.show()"
   ]
  },
  {
   "cell_type": "code",
   "execution_count": null,
   "metadata": {
    "execution": {
     "iopub.execute_input": "2021-03-25T19:10:07.563604Z",
     "iopub.status.busy": "2021-03-25T19:10:07.561075Z",
     "iopub.status.idle": "2021-03-25T19:10:07.748198Z",
     "shell.execute_reply": "2021-03-25T19:10:07.747434Z"
    },
    "papermill": {
     "duration": 0.279955,
     "end_time": "2021-03-25T19:10:07.748357",
     "exception": false,
     "start_time": "2021-03-25T19:10:07.468402",
     "status": "completed"
    },
    "tags": []
   },
   "outputs": [],
   "source": [
    "print(df.smoking_status.value_counts())\n",
    "sns.set_theme(style=\"darkgrid\")\n",
    "ax = sns.countplot(data=df, x=\"smoking_status\")\n",
    "ax.set_xticklabels(ax.get_xticklabels(), fontsize=10)\n",
    "plt.tight_layout()\n",
    "plt.show()"
   ]
  },
  {
   "cell_type": "code",
   "execution_count": null,
   "metadata": {
    "execution": {
     "iopub.execute_input": "2021-03-25T19:10:08.263054Z",
     "iopub.status.busy": "2021-03-25T19:10:08.261815Z",
     "iopub.status.idle": "2021-03-25T19:10:08.393305Z",
     "shell.execute_reply": "2021-03-25T19:10:08.392632Z"
    },
    "papermill": {
     "duration": 0.226138,
     "end_time": "2021-03-25T19:10:08.393449",
     "exception": false,
     "start_time": "2021-03-25T19:10:08.167311",
     "status": "completed"
    },
    "tags": []
   },
   "outputs": [],
   "source": [
    "print(df.stroke.value_counts())\n",
    "sns.set_theme(style=\"darkgrid\")\n",
    "ax = sns.countplot(data=df, x=\"stroke\")\n",
    "plt.show()"
   ]
  },
  {
   "cell_type": "markdown",
   "metadata": {},
   "source": [
    "    - Ci-dessus, vous pouvez voir que les femelles présentes dans notre ensemble de données sont plus élevées que les mâles.\n",
    "    - D'en haut, cela montre que moins de personnes souffrent d'hypertension.\n",
    "    - Le ratio vu d'en haut est d'environ 2: 1 pour être marié.\n",
    "    - Beaucoup de gens travaillent dans le secteur privé.\n",
    "    Le type de résidence est le même pour les personnes présentes dans notre jeu de données.\n",
    "    - Beaucoup de gens n'ont jamais fumé de leur vie. Mais nous ne connaissons pas non plus le statut exact des inconnus dans notre ensemble de données.\n",
    "    -D e la variable dépendante ci-dessus, nous avons vraiment moins de personnes qui ont subi un AVC. Mais cela signifie également que notre ensemble de données est déséquilibré. Nous devons probablement utiliser des techniques d'échantillonnage pour équilibrer les données.\n",
    "    - Mais, commençons par tracer davantage pour voir comment nos données fonctionnent dans cet état."
   ]
  },
  {
   "cell_type": "code",
   "execution_count": null,
   "metadata": {
    "papermill": {
     "duration": 0.081988,
     "end_time": "2021-03-25T19:10:08.722834",
     "exception": false,
     "start_time": "2021-03-25T19:10:08.640846",
     "status": "completed"
    },
    "tags": []
   },
   "outputs": [],
   "source": [
    "sns.pairplot(df,hue='stroke')"
   ]
  },
  {
   "cell_type": "markdown",
   "metadata": {
    "papermill": {
     "duration": 0.084324,
     "end_time": "2021-03-25T19:10:08.890438",
     "exception": false,
     "start_time": "2021-03-25T19:10:08.806114",
     "status": "completed"
    },
    "tags": []
   },
   "source": [
    "## **Distribution Plot** <a id=\"3.3\"></a>"
   ]
  },
  {
   "cell_type": "markdown",
   "metadata": {
    "papermill": {
     "duration": 0.081778,
     "end_time": "2021-03-25T19:10:09.054913",
     "exception": false,
     "start_time": "2021-03-25T19:10:08.973135",
     "status": "completed"
    },
    "tags": []
   },
   "source": [
    "### **Avg. Glucose Level** <a id=\"3.3.1\"></a>"
   ]
  },
  {
   "cell_type": "code",
   "execution_count": null,
   "metadata": {
    "execution": {
     "iopub.execute_input": "2021-03-25T19:10:09.252573Z",
     "iopub.status.busy": "2021-03-25T19:10:09.251478Z",
     "iopub.status.idle": "2021-03-25T19:10:09.819498Z",
     "shell.execute_reply": "2021-03-25T19:10:09.820013Z"
    },
    "papermill": {
     "duration": 0.681007,
     "end_time": "2021-03-25T19:10:09.820214",
     "exception": false,
     "start_time": "2021-03-25T19:10:09.139207",
     "status": "completed"
    },
    "tags": []
   },
   "outputs": [],
   "source": [
    "fig = plt.figure(figsize=(7,7))\n",
    "sns.distplot(df.avg_glucose_level, color=\"green\", label=\"avg_glucose_level\", kde= True)\n",
    "plt.legend()"
   ]
  },
  {
   "cell_type": "markdown",
   "metadata": {
    "papermill": {
     "duration": 0.089138,
     "end_time": "2021-03-25T19:10:09.996213",
     "exception": false,
     "start_time": "2021-03-25T19:10:09.907075",
     "status": "completed"
    },
    "tags": []
   },
   "source": [
    "1. Les taux de glucose normaux chez les adultes devraient se situer autour de 80-140. Par conséquent, la densité est plus élevée autour de cette plage. Ainsi, nous pouvons voir que nous avons beaucoup de gens qui ont un taux de glucose normal, donc ils ne souffrent pas de diabète.\n",
    "2. La gamme 140-200 peut être considérée comme du pré-diabète. Mais, en regardant le graphique, nous pouvons voir que moins de personnes sont dans la zone de pré-diabète.\n",
    "3. Tout ce qui dépasse 200 peut indiquer que la personne souffre de diabète. La densité est supérieure à celle du pré-diabète en regardant le graphique."
   ]
  },
  {
   "cell_type": "code",
   "execution_count": null,
   "metadata": {
    "execution": {
     "iopub.execute_input": "2021-03-25T19:10:10.371806Z",
     "iopub.status.busy": "2021-03-25T19:10:10.371061Z",
     "iopub.status.idle": "2021-03-25T19:10:10.735345Z",
     "shell.execute_reply": "2021-03-25T19:10:10.734445Z"
    },
    "papermill": {
     "duration": 0.477656,
     "end_time": "2021-03-25T19:10:10.735510",
     "exception": false,
     "start_time": "2021-03-25T19:10:10.257854",
     "status": "completed"
    },
    "tags": []
   },
   "outputs": [],
   "source": [
    "fig = plt.figure(figsize=(7,7))\n",
    "sns.distplot(df.bmi, color=\"orange\", label=\"bmi\", kde= True)\n",
    "plt.legend()"
   ]
  },
  {
   "cell_type": "markdown",
   "metadata": {
    "papermill": {
     "duration": 0.091559,
     "end_time": "2021-03-25T19:10:10.912322",
     "exception": false,
     "start_time": "2021-03-25T19:10:10.820763",
     "status": "completed"
    },
    "tags": []
   },
   "source": [
    "1. Un IMC inférieur à 19 peut être considéré comme un poids insuffisant. En regardant notre graphique, peu de personnes souffrent d'insuffisance pondérale.\n",
    "\n",
    "2. Un IMC entre 19 et 25 peut être considéré comme un poids normal. Nous avons une quantité relativement bonne de personnes qui ont un poids normal.\n",
    "\n",
    "3. Un IMC supérieur à 25 peut être considéré comme la personne est probablement en surpoids ou obèse. Notre graphique montre que la densité est plus élevée autour de ces IMC."
   ]
  },
  {
   "cell_type": "code",
   "execution_count": null,
   "metadata": {
    "execution": {
     "iopub.execute_input": "2021-03-25T19:10:11.279560Z",
     "iopub.status.busy": "2021-03-25T19:10:11.278873Z",
     "iopub.status.idle": "2021-03-25T19:10:11.750008Z",
     "shell.execute_reply": "2021-03-25T19:10:11.749301Z"
    },
    "papermill": {
     "duration": 0.572577,
     "end_time": "2021-03-25T19:10:11.750168",
     "exception": false,
     "start_time": "2021-03-25T19:10:11.177591",
     "status": "completed"
    },
    "tags": []
   },
   "outputs": [],
   "source": [
    "plt.figure(figsize=(12,10))\n",
    "\n",
    "sns.distplot(df[df['stroke'] == 0][\"bmi\"]) \n",
    "sns.distplot(df[df['stroke'] == 1][\"bmi\"]) \n",
    "\n",
    "plt.title('No Stroke vs Stroke by BMI', fontsize=15)\n",
    "plt.xlim([10,100])\n",
    "plt.show()"
   ]
  },
  {
   "cell_type": "markdown",
   "metadata": {
    "papermill": {
     "duration": 0.08915,
     "end_time": "2021-03-25T19:10:11.931077",
     "exception": false,
     "start_time": "2021-03-25T19:10:11.841927",
     "status": "completed"
    },
    "tags": []
   },
   "source": [
    "D'après le graphique, il montre que la densité de personnes en surpoids ayant subi un AVC est supérieure."
   ]
  },
  {
   "cell_type": "code",
   "execution_count": null,
   "metadata": {
    "execution": {
     "iopub.execute_input": "2021-03-25T19:10:12.298110Z",
     "iopub.status.busy": "2021-03-25T19:10:12.297368Z",
     "iopub.status.idle": "2021-03-25T19:10:12.695114Z",
     "shell.execute_reply": "2021-03-25T19:10:12.695689Z"
    },
    "papermill": {
     "duration": 0.497613,
     "end_time": "2021-03-25T19:10:12.695884",
     "exception": false,
     "start_time": "2021-03-25T19:10:12.198271",
     "status": "completed"
    },
    "tags": []
   },
   "outputs": [],
   "source": [
    "plt.figure(figsize=(12,10))\n",
    "\n",
    "sns.distplot(df[df['stroke'] == 0][\"avg_glucose_level\"]) \n",
    "sns.distplot(df[df['stroke'] == 1][\"avg_glucose_level\"], )\n",
    "\n",
    "plt.title('No Stroke vs Stroke by Avg. Glucose Level', fontsize=15)\n",
    "plt.xlim([30,330])\n",
    "plt.show()"
   ]
  },
  {
   "cell_type": "markdown",
   "metadata": {
    "papermill": {
     "duration": 0.0916,
     "end_time": "2021-03-25T19:10:12.882451",
     "exception": false,
     "start_time": "2021-03-25T19:10:12.790851",
     "status": "completed"
    },
    "tags": []
   },
   "source": [
    "D'après le graphique, il montre que la densité de personnes ayant un taux de glucose inférieur à 100 a subi davantage d'accidents vasculaires cérébraux."
   ]
  },
  {
   "cell_type": "code",
   "execution_count": null,
   "metadata": {
    "execution": {
     "iopub.execute_input": "2021-03-25T19:10:13.252997Z",
     "iopub.status.busy": "2021-03-25T19:10:13.252165Z",
     "iopub.status.idle": "2021-03-25T19:10:13.623328Z",
     "shell.execute_reply": "2021-03-25T19:10:13.622641Z"
    },
    "papermill": {
     "duration": 0.466544,
     "end_time": "2021-03-25T19:10:13.623484",
     "exception": false,
     "start_time": "2021-03-25T19:10:13.156940",
     "status": "completed"
    },
    "tags": []
   },
   "outputs": [],
   "source": [
    "plt.figure(figsize=(12,10))\n",
    "\n",
    "sns.distplot(df[df['stroke'] == 0][\"age\"], color='green') # No Stroke - green\n",
    "sns.distplot(df[df['stroke'] == 1][\"age\"], color='red') # Stroke - Red\n",
    "\n",
    "plt.title('No Stroke vs Stroke by Age', fontsize=15)\n",
    "plt.xlim([18,100])\n",
    "plt.show()"
   ]
  },
  {
   "cell_type": "markdown",
   "metadata": {
    "papermill": {
     "duration": 0.091294,
     "end_time": "2021-03-25T19:10:13.808110",
     "exception": false,
     "start_time": "2021-03-25T19:10:13.716816",
     "status": "completed"
    },
    "tags": []
   },
   "source": [
    "D'après le graphique, on peut voir que la densité des personnes âgées de plus de 50 ans a davantage subi d'AVC."
   ]
  },
  {
   "cell_type": "markdown",
   "metadata": {
    "papermill": {
     "duration": 0.095082,
     "end_time": "2021-03-25T19:10:13.995356",
     "exception": false,
     "start_time": "2021-03-25T19:10:13.900274",
     "status": "completed"
    },
    "tags": []
   },
   "source": [
    "## **Scatter Plot** <a id=\"3.4\"></a>"
   ]
  },
  {
   "cell_type": "code",
   "execution_count": null,
   "metadata": {
    "execution": {
     "iopub.execute_input": "2021-03-25T19:10:15.490628Z",
     "iopub.status.busy": "2021-03-25T19:10:15.489549Z",
     "iopub.status.idle": "2021-03-25T19:10:15.993963Z",
     "shell.execute_reply": "2021-03-25T19:10:15.994469Z"
    },
    "papermill": {
     "duration": 0.611352,
     "end_time": "2021-03-25T19:10:15.994655",
     "exception": false,
     "start_time": "2021-03-25T19:10:15.383303",
     "status": "completed"
    },
    "tags": []
   },
   "outputs": [],
   "source": [
    "fig = plt.figure(figsize=(7,7))\n",
    "graph = sns.scatterplot(data=df, x=\"age\", y=\"avg_glucose_level\", hue='gender')\n",
    "graph.axhline(y= 150, linewidth=4, color='r', linestyle= '--')\n",
    "plt.show()"
   ]
  },
  {
   "cell_type": "markdown",
   "metadata": {
    "papermill": {
     "duration": 0.104822,
     "end_time": "2021-03-25T19:10:16.204375",
     "exception": false,
     "start_time": "2021-03-25T19:10:16.099553",
     "status": "completed"
    },
    "tags": []
   },
   "source": [
    "D'après le graphique ci-dessus, nous pouvons voir que les personnes ayant un taux de glucose supérieur à 150 sont relativement moins nombreuses que celles ci-dessous. Ainsi, nous pouvons dire que les personnes de plus de 150 ans pourraient souffrir de diabète."
   ]
  },
  {
   "cell_type": "markdown",
   "metadata": {
    "papermill": {
     "duration": 0.105942,
     "end_time": "2021-03-25T19:10:16.415813",
     "exception": false,
     "start_time": "2021-03-25T19:10:16.309871",
     "status": "completed"
    },
    "tags": []
   },
   "source": [
    "## **Violin Plot** <a id=\"3.5\"></a>"
   ]
  },
  {
   "cell_type": "code",
   "execution_count": null,
   "metadata": {
    "execution": {
     "iopub.execute_input": "2021-03-25T19:10:16.658282Z",
     "iopub.status.busy": "2021-03-25T19:10:16.651171Z",
     "iopub.status.idle": "2021-03-25T19:10:17.745220Z",
     "shell.execute_reply": "2021-03-25T19:10:17.744552Z"
    },
    "papermill": {
     "duration": 1.224446,
     "end_time": "2021-03-25T19:10:17.745362",
     "exception": false,
     "start_time": "2021-03-25T19:10:16.520916",
     "status": "completed"
    },
    "tags": []
   },
   "outputs": [],
   "source": [
    "plt.figure(figsize=(13,13))\n",
    "sns.set_theme(style=\"darkgrid\")\n",
    "plt.subplot(2,3,1)\n",
    "sns.violinplot(x = 'gender', y = 'stroke', data = df)\n",
    "plt.subplot(2,3,2)\n",
    "sns.violinplot(x = 'hypertension', y = 'stroke', data = df)\n",
    "plt.subplot(2,3,3)\n",
    "sns.violinplot(x = 'heart_disease', y = 'stroke', data = df)\n",
    "plt.subplot(2,3,4)\n",
    "sns.violinplot(x = 'ever_married', y = 'stroke', data = df)\n",
    "plt.subplot(2,3,5)\n",
    "sns.violinplot(x = 'work_type', y = 'stroke', data = df)\n",
    "plt.xticks(fontsize=9, rotation=45)\n",
    "plt.subplot(2,3,6)\n",
    "sns.violinplot(x = 'Residence_type', y = 'stroke', data = df)\n",
    "plt.show()"
   ]
  },
  {
   "cell_type": "markdown",
   "metadata": {
    "papermill": {
     "duration": 0.122589,
     "end_time": "2021-03-25T19:10:28.253536",
     "exception": false,
     "start_time": "2021-03-25T19:10:28.130947",
     "status": "completed"
    },
    "tags": []
   },
   "source": [
    "# Preparation de donnees"
   ]
  },
  {
   "cell_type": "code",
   "execution_count": null,
   "metadata": {},
   "outputs": [],
   "source": [
    "df =dataset.copy()\n",
    "df =df.drop('id',1)\n",
    "df.bmi.replace(to_replace=np.nan, value=dataset.bmi.mean(), inplace=True)\n",
    "df = df.drop(df[df['gender']=='Other'].index,  0)\n",
    "y = df.pop('stroke')\n",
    "X = df\n",
    "num_col = X.select_dtypes(exclude=['object']).columns\n",
    "cat_col = X.select_dtypes(include=['object']).columns"
   ]
  },
  {
   "cell_type": "code",
   "execution_count": null,
   "metadata": {},
   "outputs": [],
   "source": [
    "numerical_pipline = make_pipeline(SimpleImputer(), StandardScaler())\n",
    "categorical_pipline = make_pipeline(SimpleImputer(strategy='most_frequent'), OneHotEncoder())"
   ]
  },
  {
   "cell_type": "code",
   "execution_count": null,
   "metadata": {},
   "outputs": [],
   "source": [
    "preprocessor = make_column_transformer((numerical_pipline, num_col),\n",
    "                                      (categorical_pipline, cat_col))\n",
    "X_transformed=preprocessor.fit_transform(X)"
   ]
  },
  {
   "cell_type": "code",
   "execution_count": null,
   "metadata": {},
   "outputs": [],
   "source": [
    "x_train, x_test, y_train, y_test = train_test_split(X_transformed, y, test_size= 0.2, random_state= 0)\n",
    "print(\"Number transactions x_train dataset: \", x_train.shape)\n",
    "print(\"Number transactions y_train dataset: \", y_train.shape)\n",
    "print(\"Number transactions x_test dataset: \", x_test.shape)\n",
    "print(\"Number transactions y_test dataset: \", y_test.shape)"
   ]
  },
  {
   "cell_type": "code",
   "execution_count": null,
   "metadata": {},
   "outputs": [],
   "source": [
    "\n",
    "print(\"Before OverSampling, counts of label '1': {}\".format(sum(y_train==1)))\n",
    "print(\"Before OverSampling, counts of label '0': {} \\n\".format(sum(y_train==0)))\n",
    "\n",
    "sm = SMOTE(random_state=2)\n",
    "x_train_res, y_train_res = sm.fit_resample(x_train, y_train.ravel())\n",
    "\n",
    "print('After OverSampling, the shape of train_X: {}'.format(x_train_res.shape))\n",
    "print('After OverSampling, the shape of train_y: {} \\n'.format(y_train_res.shape))\n",
    "\n",
    "print(\"After OverSampling, counts of label '1': {}\".format(sum(y_train_res==1)))\n",
    "print(\"After OverSampling, counts of label '0': {}\".format(sum(y_train_res==0)))"
   ]
  },
  {
   "cell_type": "markdown",
   "metadata": {
    "papermill": {
     "duration": 0.125545,
     "end_time": "2021-03-25T19:10:35.417192",
     "exception": false,
     "start_time": "2021-03-25T19:10:35.291647",
     "status": "completed"
    },
    "tags": []
   },
   "source": [
    "#  Selection des modeles <a id=\"9\"></a>"
   ]
  },
  {
   "cell_type": "code",
   "execution_count": null,
   "metadata": {
    "execution": {
     "iopub.execute_input": "2021-03-25T19:10:36.273991Z",
     "iopub.status.busy": "2021-03-25T19:10:36.272975Z",
     "iopub.status.idle": "2021-03-25T19:10:36.276214Z",
     "shell.execute_reply": "2021-03-25T19:10:36.276690Z"
    },
    "papermill": {
     "duration": 0.135868,
     "end_time": "2021-03-25T19:10:36.276876",
     "exception": false,
     "start_time": "2021-03-25T19:10:36.141008",
     "status": "completed"
    },
    "tags": []
   },
   "outputs": [],
   "source": [
    "from sklearn.metrics import accuracy_score, confusion_matrix, roc_auc_score, ConfusionMatrixDisplay, precision_score, recall_score, f1_score, classification_report, roc_curve, plot_roc_curve, auc, precision_recall_curve, plot_precision_recall_curve, average_precision_score\n",
    "from sklearn.model_selection import cross_val_score"
   ]
  },
  {
   "cell_type": "code",
   "execution_count": null,
   "metadata": {
    "execution": {
     "iopub.execute_input": "2021-03-25T19:10:36.531786Z",
     "iopub.status.busy": "2021-03-25T19:10:36.530703Z",
     "iopub.status.idle": "2021-03-25T19:11:15.567317Z",
     "shell.execute_reply": "2021-03-25T19:11:15.568028Z"
    },
    "papermill": {
     "duration": 39.165354,
     "end_time": "2021-03-25T19:11:15.568268",
     "exception": false,
     "start_time": "2021-03-25T19:10:36.402914",
     "status": "completed"
    },
    "tags": []
   },
   "outputs": [],
   "source": [
    "from tqdm import tqdm\n",
    "models = []\n",
    "models.append(['Logistic Regreesion', LogisticRegression(random_state=0)])\n",
    "models.append(['SVM', SVC(random_state=0)])\n",
    "models.append(['KNeighbors', KNeighborsClassifier()])\n",
    "models.append(['GaussianNB', GaussianNB()])\n",
    "models.append(['BernoulliNB', BernoulliNB()])\n",
    "models.append(['Decision Tree', DecisionTreeClassifier(random_state=0)])\n",
    "models.append(['Random Forest', RandomForestClassifier(random_state=0)])\n",
    "models.append(['XGBoost', XGBClassifier(eval_metric= 'error')])\n",
    "\n",
    "lst_1= []\n",
    "\n",
    "for m in tqdm(range(len(models))):\n",
    "    lst_2= []\n",
    "    model = models[m][1]\n",
    "    model.fit(x_train_res, y_train_res)\n",
    "    y_pred = model.predict(x_test)\n",
    "    cm = confusion_matrix(y_test, y_pred)  #Confusion Matrix\n",
    "    accuracies = cross_val_score(estimator = model, X = x_train_res, y = y_train_res, cv = 10)   #K-Fold Validation\n",
    "    roc = roc_auc_score(y_test, y_pred)  #ROC AUC Score\n",
    "    precision = precision_score(y_test, y_pred)  #Precision Score\n",
    "    recall = recall_score(y_test, y_pred)  #Recall Score\n",
    "    f1 = f1_score(y_test, y_pred)  #F1 Score\n",
    " \n",
    "    lst_2.append(models[m][0])\n",
    "    lst_2.append((accuracy_score(y_test, y_pred))*100) \n",
    "    lst_2.append(accuracies.mean()*100)\n",
    "    lst_2.append(accuracies.std()*100)\n",
    "    lst_2.append(roc)\n",
    "    lst_2.append(precision)\n",
    "    lst_2.append(recall)\n",
    "    lst_2.append(f1)\n",
    "    lst_1.append(lst_2)"
   ]
  },
  {
   "cell_type": "code",
   "execution_count": null,
   "metadata": {
    "execution": {
     "iopub.execute_input": "2021-03-25T19:11:15.831482Z",
     "iopub.status.busy": "2021-03-25T19:11:15.830772Z",
     "iopub.status.idle": "2021-03-25T19:11:15.837399Z",
     "shell.execute_reply": "2021-03-25T19:11:15.837981Z"
    },
    "papermill": {
     "duration": 0.138011,
     "end_time": "2021-03-25T19:11:15.838179",
     "exception": false,
     "start_time": "2021-03-25T19:11:15.700168",
     "status": "completed"
    },
    "tags": []
   },
   "outputs": [],
   "source": [
    "df = pd.DataFrame(lst_1, columns= ['Model', 'Accuracy', 'K-Fold Mean Accuracy', 'Std. Deviation', 'ROC AUC', 'Precision', 'Recall', 'F1'])\n",
    "df.sort_values(by= ['Accuracy', 'K-Fold Mean Accuracy'], inplace= True, ascending= False)\n",
    "df"
   ]
  },
  {
   "cell_type": "markdown",
   "metadata": {
    "papermill": {
     "duration": 0.140709,
     "end_time": "2021-03-25T19:11:16.666315",
     "exception": false,
     "start_time": "2021-03-25T19:11:16.525606",
     "status": "completed"
    },
    "tags": []
   },
   "source": [
    "# Réglage des modèles"
   ]
  },
  {
   "cell_type": "code",
   "execution_count": null,
   "metadata": {
    "execution": {
     "iopub.execute_input": "2021-03-25T19:11:16.932963Z",
     "iopub.status.busy": "2021-03-25T19:11:16.932138Z",
     "iopub.status.idle": "2021-03-25T19:11:16.937124Z",
     "shell.execute_reply": "2021-03-25T19:11:16.937705Z"
    },
    "papermill": {
     "duration": 0.140042,
     "end_time": "2021-03-25T19:11:16.937901",
     "exception": false,
     "start_time": "2021-03-25T19:11:16.797859",
     "status": "completed"
    },
    "tags": []
   },
   "outputs": [],
   "source": [
    "from sklearn.model_selection import GridSearchCV"
   ]
  },
  {
   "cell_type": "markdown",
   "metadata": {
    "papermill": {
     "duration": 0.129337,
     "end_time": "2021-03-25T19:11:17.197295",
     "exception": false,
     "start_time": "2021-03-25T19:11:17.067958",
     "status": "completed"
    },
    "tags": []
   },
   "source": [
    "*The **GridSearchCV** is a library function that is a member of sklearn's model_selection package. It helps to loop through predefined hyperparameters and fit your estimator (model) on your training set. So, in the end, you can select the best parameters from the listed hyperparameters.*"
   ]
  },
  {
   "cell_type": "code",
   "execution_count": null,
   "metadata": {
    "execution": {
     "iopub.execute_input": "2021-03-25T19:11:17.470181Z",
     "iopub.status.busy": "2021-03-25T19:11:17.469362Z",
     "iopub.status.idle": "2021-03-25T19:11:17.472242Z",
     "shell.execute_reply": "2021-03-25T19:11:17.472869Z"
    },
    "papermill": {
     "duration": 0.143025,
     "end_time": "2021-03-25T19:11:17.473050",
     "exception": false,
     "start_time": "2021-03-25T19:11:17.330025",
     "status": "completed"
    },
    "tags": []
   },
   "outputs": [],
   "source": [
    "grid_models = [\n",
    "               (SVC(),[{'C':[0.25,0.5,0.75,1],'kernel':['linear', 'rbf'],'random_state':[0]}]), \n",
    "               (RandomForestClassifier(),[{'n_estimators':[50,100,150,200,250,300],'criterion':['gini','entropy'],'random_state':[0]}]), \n",
    "              (XGBClassifier(), [{'learning_rate': [0.01,0.025 ,0.05,0.075, 0.1,0.2,0.3], 'eval_metric': ['error']}])]"
   ]
  },
  {
   "cell_type": "code",
   "execution_count": null,
   "metadata": {},
   "outputs": [],
   "source": [
    "models = []\n",
    "models.append(['SVM', SVC(random_state=0,probability=True)])\n",
    "models.append(['Random Forest', RandomForestClassifier(random_state=0)])\n",
    "models.append(['XGBoost', XGBClassifier(eval_metric= 'error')])"
   ]
  },
  {
   "cell_type": "code",
   "execution_count": null,
   "metadata": {
    "execution": {
     "iopub.execute_input": "2021-03-25T19:11:17.735976Z",
     "iopub.status.busy": "2021-03-25T19:11:17.735234Z",
     "iopub.status.idle": "2021-03-25T19:16:24.973866Z",
     "shell.execute_reply": "2021-03-25T19:16:24.974441Z"
    },
    "papermill": {
     "duration": 307.374755,
     "end_time": "2021-03-25T19:16:24.974981",
     "exception": false,
     "start_time": "2021-03-25T19:11:17.600226",
     "status": "completed"
    },
    "tags": []
   },
   "outputs": [],
   "source": [
    "from sklearn.model_selection import ShuffleSplit,StratifiedKFold\n",
    "lst_1= []\n",
    "modeles =[]\n",
    "\n",
    "k=0\n",
    "for i,j in tqdm(grid_models):\n",
    "    lst_2= []\n",
    "    \n",
    "    grid = GridSearchCV(estimator=i,param_grid = j,cv = 10)\n",
    "    grid.fit(x_train_res, y_train_res)\n",
    "    model = grid.best_estimator_\n",
    "    y_pred = model.predict(x_test)\n",
    "   \n",
    "    cm = confusion_matrix(y_test, y_pred)  #Confusion Matrix\n",
    "    accuracies = cross_val_score(estimator = model, X = x_train_res, y = y_train_res, cv = 10)   #K-Fold Validation\n",
    "    roc = roc_auc_score(y_test, y_pred)  #ROC AUC Score\n",
    "    precision = precision_score(y_test, y_pred)  #Precision Score\n",
    "    recall = recall_score(y_test, y_pred)  #Recall Score\n",
    "    f1 = f1_score(y_test, y_pred)  #F1 Score\n",
    "    \n",
    "    modeles.append(model)\n",
    "    lst_2.append(models[k][0])\n",
    "    lst_2.append((accuracy_score(y_test, y_pred))*100) \n",
    "    lst_2.append(accuracies.mean()*100)\n",
    "    lst_2.append(accuracies.std()*100)\n",
    "    lst_2.append(roc)\n",
    "    lst_2.append(precision)\n",
    "    lst_2.append(recall)\n",
    "    lst_2.append(f1)\n",
    "    lst_1.append(lst_2)\n",
    "    print(lst_2)\n",
    "    k+=1\n"
   ]
  },
  {
   "cell_type": "code",
   "execution_count": null,
   "metadata": {},
   "outputs": [],
   "source": [
    "df = pd.DataFrame(lst_1, columns= ['Model', 'Accuracy', 'K-Fold Mean Accuracy', 'Std. Deviation', 'ROC AUC', 'Precision', 'Recall', 'F1'])\n",
    "df.sort_values(by= ['Accuracy', 'K-Fold Mean Accuracy'], inplace= True, ascending= False)\n",
    "df"
   ]
  },
  {
   "cell_type": "code",
   "execution_count": null,
   "metadata": {},
   "outputs": [],
   "source": [
    "modeles[3]"
   ]
  },
  {
   "cell_type": "markdown",
   "metadata": {
    "papermill": {
     "duration": 0.133086,
     "end_time": "2021-03-25T19:16:25.243344",
     "exception": false,
     "start_time": "2021-03-25T19:16:25.110258",
     "status": "completed"
    },
    "tags": []
   },
   "source": [
    "*En regardant la sortie après **GridSearch**, nous pouvons déterminer que la **RandomForest** semble la mieux adaptée au modèle.*"
   ]
  },
  {
   "cell_type": "markdown",
   "metadata": {
    "papermill": {
     "duration": 0.132905,
     "end_time": "2021-03-25T19:16:25.509364",
     "exception": false,
     "start_time": "2021-03-25T19:16:25.376459",
     "status": "completed"
    },
    "tags": []
   },
   "source": [
    "# Modèle après réglage des hyperparamètres"
   ]
  },
  {
   "cell_type": "code",
   "execution_count": 5,
   "metadata": {
    "execution": {
     "iopub.execute_input": "2021-03-25T19:16:26.317291Z",
     "iopub.status.busy": "2021-03-25T19:16:26.316081Z",
     "iopub.status.idle": "2021-03-25T19:16:27.692619Z",
     "shell.execute_reply": "2021-03-25T19:16:27.691923Z"
    },
    "papermill": {
     "duration": 1.520073,
     "end_time": "2021-03-25T19:16:27.692795",
     "exception": false,
     "start_time": "2021-03-25T19:16:26.172722",
     "status": "completed"
    },
    "tags": []
   },
   "outputs": [
    {
     "ename": "NameError",
     "evalue": "name 'modeles' is not defined",
     "output_type": "error",
     "traceback": [
      "\u001b[1;31m---------------------------------------------------------------------------\u001b[0m",
      "\u001b[1;31mNameError\u001b[0m                                 Traceback (most recent call last)",
      "\u001b[1;32m~\\AppData\\Local\\Temp\\ipykernel_16756\\2639609652.py\u001b[0m in \u001b[0;36m<module>\u001b[1;34m\u001b[0m\n\u001b[0;32m      1\u001b[0m \u001b[1;31m#Fitting RandomForest Model\u001b[0m\u001b[1;33m\u001b[0m\u001b[1;33m\u001b[0m\u001b[0m\n\u001b[1;32m----> 2\u001b[1;33m \u001b[0mclassifier\u001b[0m \u001b[1;33m=\u001b[0m \u001b[0mmodeles\u001b[0m\u001b[1;33m[\u001b[0m\u001b[1;36m2\u001b[0m\u001b[1;33m]\u001b[0m\u001b[1;33m\u001b[0m\u001b[1;33m\u001b[0m\u001b[0m\n\u001b[0m\u001b[0;32m      3\u001b[0m \u001b[1;31m#classifier.fit(x_train_res, y_train_res)\u001b[0m\u001b[1;33m\u001b[0m\u001b[1;33m\u001b[0m\u001b[0m\n\u001b[0;32m      4\u001b[0m \u001b[0my_pred\u001b[0m \u001b[1;33m=\u001b[0m \u001b[0mclassifier\u001b[0m\u001b[1;33m.\u001b[0m\u001b[0mpredict\u001b[0m\u001b[1;33m(\u001b[0m\u001b[0mx_test\u001b[0m\u001b[1;33m)\u001b[0m\u001b[1;33m\u001b[0m\u001b[1;33m\u001b[0m\u001b[0m\n\u001b[0;32m      5\u001b[0m \u001b[0my_prob\u001b[0m \u001b[1;33m=\u001b[0m \u001b[0mclassifier\u001b[0m\u001b[1;33m.\u001b[0m\u001b[0mpredict_proba\u001b[0m\u001b[1;33m(\u001b[0m\u001b[0mx_test\u001b[0m\u001b[1;33m)\u001b[0m\u001b[1;33m[\u001b[0m\u001b[1;33m:\u001b[0m\u001b[1;33m,\u001b[0m\u001b[1;36m1\u001b[0m\u001b[1;33m]\u001b[0m\u001b[1;33m\u001b[0m\u001b[1;33m\u001b[0m\u001b[0m\n",
      "\u001b[1;31mNameError\u001b[0m: name 'modeles' is not defined"
     ]
    }
   ],
   "source": [
    "#Fitting RandomForest Model\n",
    "classifier = modeles[2]\n",
    "#classifier.fit(x_train_res, y_train_res)\n",
    "y_pred = classifier.predict(x_test)\n",
    "y_prob = classifier.predict_proba(x_test)[:,1]\n",
    "cm = confusion_matrix(y_test, y_pred)\n",
    "\n",
    "print(classification_report(y_test, y_pred))\n",
    "print(f'ROC AUC score: {roc_auc_score(y_test, y_prob)}')\n",
    "print('Accuracy Score: ',accuracy_score(y_test, y_pred))\n",
    "\n",
    "# Visualizing Confusion Matrix\n",
    "plt.figure(figsize = (8, 5))\n",
    "sns.heatmap(cm, cmap = 'Blues', annot = True, fmt = 'd', linewidths = 5, cbar = False, annot_kws = {'fontsize': 15}, \n",
    "            yticklabels = ['No stroke', 'Stroke'], xticklabels = ['Predicted no stroke', 'Predicted stroke'])\n",
    "plt.yticks(rotation = 0)\n",
    "plt.show()\n",
    "\n",
    "# Roc AUC Curve\n",
    "false_positive_rate, true_positive_rate, thresholds = roc_curve(y_test, y_prob)\n",
    "roc_auc = auc(false_positive_rate, true_positive_rate)\n",
    "\n",
    "sns.set_theme(style = 'white')\n",
    "plt.figure(figsize = (8, 8))\n",
    "plt.plot(false_positive_rate,true_positive_rate, color = '#b01717', label = 'AUC = %0.3f' % roc_auc)\n",
    "plt.legend(loc = 'lower right')\n",
    "plt.plot([0, 1], [0, 1], linestyle = '--', color = '#174ab0')\n",
    "plt.axis('tight')\n",
    "plt.ylabel('True Positive Rate')\n",
    "plt.xlabel('False Positive Rate')\n",
    "plt.legend()\n",
    "plt.show()"
   ]
  },
  {
   "cell_type": "markdown",
   "metadata": {
    "papermill": {
     "duration": 1.545201,
     "end_time": "2021-03-25T19:32:37.429011",
     "exception": false,
     "start_time": "2021-03-25T19:32:35.883810",
     "status": "completed"
    },
    "tags": []
   },
   "source": [
    "# Conclusion <a id=\"13\"></a>"
   ]
  },
  {
   "cell_type": "markdown",
   "metadata": {
    "papermill": {
     "duration": 1.571612,
     "end_time": "2021-03-25T19:32:40.525651",
     "exception": false,
     "start_time": "2021-03-25T19:32:38.954039",
     "status": "completed"
    },
    "tags": []
   },
   "source": [
    "Donc, après les multiples visualisations de nos données et en passant par toutes les performances des modèles. J'ajuste les hyperparamètres à l'aide de GridSearch pour obtenir des modèles. Après cela, je suis arrivé à la conclusion que ***RandomForestClassifier*** est le meilleur modèle pour cet ensemble de données."
   ]
  },
  {
   "cell_type": "markdown",
   "metadata": {},
   "source": []
  }
 ],
 "metadata": {
  "kernelspec": {
   "display_name": "Python 3 (ipykernel)",
   "language": "python",
   "name": "python3"
  },
  "language_info": {
   "codemirror_mode": {
    "name": "ipython",
    "version": 3
   },
   "file_extension": ".py",
   "mimetype": "text/x-python",
   "name": "python",
   "nbconvert_exporter": "python",
   "pygments_lexer": "ipython3",
   "version": "3.9.13"
  },
  "papermill": {
   "default_parameters": {},
   "duration": 1382.561413,
   "end_time": "2021-03-25T19:32:47.509025",
   "environment_variables": {},
   "exception": null,
   "input_path": "__notebook__.ipynb",
   "output_path": "__notebook__.ipynb",
   "parameters": {},
   "start_time": "2021-03-25T19:09:44.947612",
   "version": "2.2.2"
  },
  "vscode": {
   "interpreter": {
    "hash": "7b34b089ce0dfc9935940e0a22050b2949fa617f7a2b73925623c261bed16aeb"
   }
  }
 },
 "nbformat": 4,
 "nbformat_minor": 4
}
